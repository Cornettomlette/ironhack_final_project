{
 "cells": [
  {
   "cell_type": "code",
   "execution_count": 1,
   "metadata": {},
   "outputs": [],
   "source": [
    "import pandas as pd\n",
    "import numpy as np\n",
    "from sklearn.ensemble import RandomForestClassifier\n",
    "from sklearn.preprocessing import StandardScaler\n",
    "import joblib"
   ]
  },
  {
   "cell_type": "code",
   "execution_count": 2,
   "metadata": {
    "scrolled": false
   },
   "outputs": [
    {
     "data": {
      "text/plain": [
       "0       out\n",
       "1       out\n",
       "2       out\n",
       "3       out\n",
       "4       out\n",
       "       ... \n",
       "4407     in\n",
       "4408     in\n",
       "4409    out\n",
       "4410     in\n",
       "4411    out\n",
       "Name: SOURCE, Length: 4412, dtype: object"
      ]
     },
     "metadata": {},
     "output_type": "display_data"
    }
   ],
   "source": [
    "data = pd.read_csv('data-ori.csv')\n",
    "display(data['SOURCE'])"
   ]
  },
  {
   "cell_type": "code",
   "execution_count": 3,
   "metadata": {},
   "outputs": [
    {
     "data": {
      "text/html": [
       "<div>\n",
       "<style scoped>\n",
       "    .dataframe tbody tr th:only-of-type {\n",
       "        vertical-align: middle;\n",
       "    }\n",
       "\n",
       "    .dataframe tbody tr th {\n",
       "        vertical-align: top;\n",
       "    }\n",
       "\n",
       "    .dataframe thead th {\n",
       "        text-align: right;\n",
       "    }\n",
       "</style>\n",
       "<table border=\"1\" class=\"dataframe\">\n",
       "  <thead>\n",
       "    <tr style=\"text-align: right;\">\n",
       "      <th></th>\n",
       "      <th>HAEMATOCRIT</th>\n",
       "      <th>HAEMOGLOBINS</th>\n",
       "      <th>ERYTHROCYTE</th>\n",
       "      <th>LEUCOCYTE</th>\n",
       "      <th>THROMBOCYTE</th>\n",
       "      <th>MCH</th>\n",
       "      <th>MCHC</th>\n",
       "      <th>MCV</th>\n",
       "      <th>AGE</th>\n",
       "    </tr>\n",
       "  </thead>\n",
       "  <tbody>\n",
       "    <tr>\n",
       "      <th>0</th>\n",
       "      <td>35.1</td>\n",
       "      <td>11.8</td>\n",
       "      <td>4.65</td>\n",
       "      <td>6.3</td>\n",
       "      <td>310</td>\n",
       "      <td>25.4</td>\n",
       "      <td>33.6</td>\n",
       "      <td>75.5</td>\n",
       "      <td>1</td>\n",
       "    </tr>\n",
       "    <tr>\n",
       "      <th>1</th>\n",
       "      <td>43.5</td>\n",
       "      <td>14.8</td>\n",
       "      <td>5.39</td>\n",
       "      <td>12.7</td>\n",
       "      <td>334</td>\n",
       "      <td>27.5</td>\n",
       "      <td>34.0</td>\n",
       "      <td>80.7</td>\n",
       "      <td>1</td>\n",
       "    </tr>\n",
       "    <tr>\n",
       "      <th>2</th>\n",
       "      <td>33.5</td>\n",
       "      <td>11.3</td>\n",
       "      <td>4.74</td>\n",
       "      <td>13.2</td>\n",
       "      <td>305</td>\n",
       "      <td>23.8</td>\n",
       "      <td>33.7</td>\n",
       "      <td>70.7</td>\n",
       "      <td>1</td>\n",
       "    </tr>\n",
       "    <tr>\n",
       "      <th>3</th>\n",
       "      <td>39.1</td>\n",
       "      <td>13.7</td>\n",
       "      <td>4.98</td>\n",
       "      <td>10.5</td>\n",
       "      <td>366</td>\n",
       "      <td>27.5</td>\n",
       "      <td>35.0</td>\n",
       "      <td>78.5</td>\n",
       "      <td>1</td>\n",
       "    </tr>\n",
       "    <tr>\n",
       "      <th>4</th>\n",
       "      <td>30.9</td>\n",
       "      <td>9.9</td>\n",
       "      <td>4.23</td>\n",
       "      <td>22.1</td>\n",
       "      <td>333</td>\n",
       "      <td>23.4</td>\n",
       "      <td>32.0</td>\n",
       "      <td>73.0</td>\n",
       "      <td>1</td>\n",
       "    </tr>\n",
       "    <tr>\n",
       "      <th>...</th>\n",
       "      <td>...</td>\n",
       "      <td>...</td>\n",
       "      <td>...</td>\n",
       "      <td>...</td>\n",
       "      <td>...</td>\n",
       "      <td>...</td>\n",
       "      <td>...</td>\n",
       "      <td>...</td>\n",
       "      <td>...</td>\n",
       "    </tr>\n",
       "    <tr>\n",
       "      <th>4407</th>\n",
       "      <td>32.8</td>\n",
       "      <td>10.4</td>\n",
       "      <td>3.49</td>\n",
       "      <td>8.1</td>\n",
       "      <td>72</td>\n",
       "      <td>29.8</td>\n",
       "      <td>31.7</td>\n",
       "      <td>94.0</td>\n",
       "      <td>92</td>\n",
       "    </tr>\n",
       "    <tr>\n",
       "      <th>4408</th>\n",
       "      <td>33.7</td>\n",
       "      <td>10.8</td>\n",
       "      <td>3.67</td>\n",
       "      <td>6.7</td>\n",
       "      <td>70</td>\n",
       "      <td>29.4</td>\n",
       "      <td>32.0</td>\n",
       "      <td>91.8</td>\n",
       "      <td>92</td>\n",
       "    </tr>\n",
       "    <tr>\n",
       "      <th>4409</th>\n",
       "      <td>33.2</td>\n",
       "      <td>11.2</td>\n",
       "      <td>3.47</td>\n",
       "      <td>7.2</td>\n",
       "      <td>235</td>\n",
       "      <td>32.3</td>\n",
       "      <td>33.7</td>\n",
       "      <td>95.7</td>\n",
       "      <td>93</td>\n",
       "    </tr>\n",
       "    <tr>\n",
       "      <th>4410</th>\n",
       "      <td>31.5</td>\n",
       "      <td>10.4</td>\n",
       "      <td>3.15</td>\n",
       "      <td>9.1</td>\n",
       "      <td>187</td>\n",
       "      <td>33.0</td>\n",
       "      <td>33.0</td>\n",
       "      <td>100.0</td>\n",
       "      <td>98</td>\n",
       "    </tr>\n",
       "    <tr>\n",
       "      <th>4411</th>\n",
       "      <td>33.5</td>\n",
       "      <td>10.9</td>\n",
       "      <td>3.44</td>\n",
       "      <td>5.8</td>\n",
       "      <td>275</td>\n",
       "      <td>31.7</td>\n",
       "      <td>32.5</td>\n",
       "      <td>97.4</td>\n",
       "      <td>99</td>\n",
       "    </tr>\n",
       "  </tbody>\n",
       "</table>\n",
       "<p>4412 rows × 9 columns</p>\n",
       "</div>"
      ],
      "text/plain": [
       "      HAEMATOCRIT  HAEMOGLOBINS  ERYTHROCYTE  LEUCOCYTE  THROMBOCYTE   MCH  \\\n",
       "0            35.1          11.8         4.65        6.3          310  25.4   \n",
       "1            43.5          14.8         5.39       12.7          334  27.5   \n",
       "2            33.5          11.3         4.74       13.2          305  23.8   \n",
       "3            39.1          13.7         4.98       10.5          366  27.5   \n",
       "4            30.9           9.9         4.23       22.1          333  23.4   \n",
       "...           ...           ...          ...        ...          ...   ...   \n",
       "4407         32.8          10.4         3.49        8.1           72  29.8   \n",
       "4408         33.7          10.8         3.67        6.7           70  29.4   \n",
       "4409         33.2          11.2         3.47        7.2          235  32.3   \n",
       "4410         31.5          10.4         3.15        9.1          187  33.0   \n",
       "4411         33.5          10.9         3.44        5.8          275  31.7   \n",
       "\n",
       "      MCHC    MCV  AGE  \n",
       "0     33.6   75.5    1  \n",
       "1     34.0   80.7    1  \n",
       "2     33.7   70.7    1  \n",
       "3     35.0   78.5    1  \n",
       "4     32.0   73.0    1  \n",
       "...    ...    ...  ...  \n",
       "4407  31.7   94.0   92  \n",
       "4408  32.0   91.8   92  \n",
       "4409  33.7   95.7   93  \n",
       "4410  33.0  100.0   98  \n",
       "4411  32.5   97.4   99  \n",
       "\n",
       "[4412 rows x 9 columns]"
      ]
     },
     "metadata": {},
     "output_type": "display_data"
    }
   ],
   "source": [
    "data.drop(columns= ['SOURCE', 'SEX'], inplace = True)\n",
    "display(data)"
   ]
  },
  {
   "cell_type": "code",
   "execution_count": 4,
   "metadata": {},
   "outputs": [],
   "source": [
    "transformer = StandardScaler().fit(data)\n",
    "filename = 'scaler_med2.sav'\n",
    "joblib.dump(transformer, open(filename, 'wb'))"
   ]
  },
  {
   "cell_type": "code",
   "execution_count": 5,
   "metadata": {
    "scrolled": true
   },
   "outputs": [
    {
     "data": {
      "text/plain": [
       "array([[-0.51851899, -0.45282588,  0.1386983 , ...,  0.20915999,\n",
       "        -1.32874197, -2.09981992],\n",
       "       [ 0.88754881,  0.98971266,  1.08257298, ...,  0.53475367,\n",
       "        -0.57053916, -2.09981992],\n",
       "       [-0.78634143, -0.69324897,  0.25349387, ...,  0.29055841,\n",
       "        -2.02862149, -2.09981992],\n",
       "       ...,\n",
       "       [-0.83655814, -0.74133359, -1.36639915, ...,  0.29055841,\n",
       "         1.61658434,  2.13420078],\n",
       "       [-1.12111948, -1.12601053, -1.77456118, ..., -0.27923052,\n",
       "         2.24355975,  2.36431061],\n",
       "       [-0.78634143, -0.88558744, -1.40466434, ..., -0.68622262,\n",
       "         1.86445834,  2.41033257]])"
      ]
     },
     "metadata": {},
     "output_type": "display_data"
    }
   ],
   "source": [
    "scaler_test = transformer.transform(data)\n",
    "display(scaler_test)"
   ]
  },
  {
   "cell_type": "code",
   "execution_count": 6,
   "metadata": {},
   "outputs": [
    {
     "data": {
      "text/plain": [
       "array([-1.2215529 , -1.36643362, -0.39701435,  2.65058428,  0.66230157,\n",
       "       -1.80916623, -1.09321472, -1.69326255, -2.09981992])"
      ]
     },
     "metadata": {},
     "output_type": "display_data"
    }
   ],
   "source": [
    "display(scaler_test[4])"
   ]
  },
  {
   "cell_type": "code",
   "execution_count": 8,
   "metadata": {},
   "outputs": [
    {
     "name": "stdout",
     "output_type": "stream",
     "text": [
      "[[-1.2215529  -1.36643362 -0.39701435  2.65058428  0.66230157 -1.80916623\n",
      "  -1.09321472 -1.69326255 -2.09981992]]\n"
     ]
    }
   ],
   "source": [
    "# opening a saved scaler and doing some tests on scaling individual rows of data\n",
    "row = [[30.9,9.9,4.23,22.1,333,23.4,32.0,73.0,1]]\n",
    "\n",
    "loaded_transformer = joblib.load(open(filename, 'rb'))\n",
    "scaler_test = loaded_transformer.transform(row)\n",
    "print(scaler_test)"
   ]
  },
  {
   "cell_type": "code",
   "execution_count": 10,
   "metadata": {},
   "outputs": [
    {
     "data": {
      "text/plain": [
       "list"
      ]
     },
     "execution_count": 10,
     "metadata": {},
     "output_type": "execute_result"
    }
   ],
   "source": [
    "row = [[30.9,9.9,4.23,22.1,333,23.4,32.0,73.0,1]]\n",
    "type(row)"
   ]
  },
  {
   "cell_type": "code",
   "execution_count": 9,
   "metadata": {},
   "outputs": [
    {
     "data": {
      "text/plain": [
       "pandas.core.series.Series"
      ]
     },
     "execution_count": 9,
     "metadata": {},
     "output_type": "execute_result"
    }
   ],
   "source": [
    "row_df = data.iloc[4]\n",
    "type(row_df)"
   ]
  },
  {
   "cell_type": "code",
   "execution_count": null,
   "metadata": {},
   "outputs": [],
   "source": []
  },
  {
   "cell_type": "code",
   "execution_count": null,
   "metadata": {},
   "outputs": [],
   "source": []
  },
  {
   "cell_type": "code",
   "execution_count": null,
   "metadata": {},
   "outputs": [],
   "source": []
  }
 ],
 "metadata": {
  "kernelspec": {
   "display_name": "Python 3",
   "language": "python",
   "name": "python3"
  },
  "language_info": {
   "codemirror_mode": {
    "name": "ipython",
    "version": 3
   },
   "file_extension": ".py",
   "mimetype": "text/x-python",
   "name": "python",
   "nbconvert_exporter": "python",
   "pygments_lexer": "ipython3",
   "version": "3.8.5"
  }
 },
 "nbformat": 4,
 "nbformat_minor": 4
}
